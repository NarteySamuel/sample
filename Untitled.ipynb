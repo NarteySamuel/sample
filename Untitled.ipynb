{
 "cells": [
  {
   "cell_type": "markdown",
   "metadata": {},
   "source": [
    "# PYTHON CODES"
   ]
  },
  {
   "cell_type": "code",
   "execution_count": null,
   "metadata": {},
   "outputs": [],
   "source": [
    "import pandas as pd"
   ]
  },
  {
   "cell_type": "code",
   "execution_count": null,
   "metadata": {},
   "outputs": [],
   "source": [
    "iPYTHON\n",
    "#when clearing the screen of ipython:\n",
    "cls \n",
    "\n",
    "#when restarting the ipython kennel, use this code:\n",
    "import IPython\n",
    "app = IPython.Application.instance()\n",
    "app.shell.reset()\n",
    "\n",
    "#Getting help with an object/variable, use any of these codes:\n",
    "object? or help(object) or dir(object)\n",
    "the dir is for specific info about the object\n",
    "\n",
    "#loading examples from sites, use this magic function followed by the web address:\n",
    "%load webpage\n",
    "\n",
    "#check this page out for ways to embed images and videos into your jupiter notebook:\n",
    "http://nbviewer.jupyter.org/github/ipython/ipython/blob/1.\n",
    "x/examples/notebooks/Part%205%20-\n",
    "%20Rich%20Display%20System.ipynb\n",
    "\n",
    "#"
   ]
  }
 ],
 "metadata": {
  "kernelspec": {
   "display_name": "Python 3",
   "language": "python",
   "name": "python3"
  },
  "language_info": {
   "codemirror_mode": {
    "name": "ipython",
    "version": 3
   },
   "file_extension": ".py",
   "mimetype": "text/x-python",
   "name": "python",
   "nbconvert_exporter": "python",
   "pygments_lexer": "ipython3",
   "version": "3.7.6"
  }
 },
 "nbformat": 4,
 "nbformat_minor": 4
}
